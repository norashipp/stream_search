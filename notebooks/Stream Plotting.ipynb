{
 "cells": [
  {
   "cell_type": "code",
   "execution_count": 10,
   "metadata": {},
   "outputs": [],
   "source": [
    "%run setup.py"
   ]
  },
  {
   "cell_type": "code",
   "execution_count": 6,
   "metadata": {},
   "outputs": [],
   "source": [
    "mw_streams = galstreams.MWStreams(verbose=False)"
   ]
  },
  {
   "cell_type": "code",
   "execution_count": 7,
   "metadata": {},
   "outputs": [],
   "source": [
    "plot_density.plot_pretty(figsize=(12,12))"
   ]
  },
  {
   "cell_type": "code",
   "execution_count": 11,
   "metadata": {},
   "outputs": [
    {
     "name": "stdout",
     "output_type": "stream",
     "text": [
      "Survey options are BASS or DECaLS. Using DECaLS.\n",
      "Loading /Users/nora/projects/stream_search/data/DECaLS_iso_hpxcube_z0.0001_a13.5_gmax23.fits.gz...\n",
      "Reading /Users/nora/projects/stream_search/data/DECaLS_iso_hpxcube_z0.0001_a13.5_gmax23.fits.gz...\n",
      "Skipping fracdet...\n"
     ]
    }
   ],
   "source": [
    "survey = 'DECaLS'\n",
    "z = 0.0001\n",
    "age = 13.5\n",
    "gmax = 23.0\n",
    "\n",
    "hpxcube, fracdet, modulus = load_data.load_data(survey, z, age, gmax)"
   ]
  },
  {
   "cell_type": "code",
   "execution_count": null,
   "metadata": {},
   "outputs": [],
   "source": []
  }
 ],
 "metadata": {
  "kernelspec": {
   "display_name": "Python 3",
   "language": "python",
   "name": "python3"
  },
  "language_info": {
   "codemirror_mode": {
    "name": "ipython",
    "version": 3
   },
   "file_extension": ".py",
   "mimetype": "text/x-python",
   "name": "python",
   "nbconvert_exporter": "python",
   "pygments_lexer": "ipython3",
   "version": "3.7.5"
  }
 },
 "nbformat": 4,
 "nbformat_minor": 2
}
