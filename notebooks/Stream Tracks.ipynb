{
 "cells": [
  {
   "cell_type": "code",
   "execution_count": 1,
   "metadata": {},
   "outputs": [],
   "source": [
    "# %matplotlib notebook\n",
    "%matplotlib widget"
   ]
  },
  {
   "cell_type": "code",
   "execution_count": 2,
   "metadata": {},
   "outputs": [],
   "source": [
    "import numpy as np\n",
    "import matplotlib.pyplot as plt\n",
    "from importlib import reload\n",
    "\n",
    "import astropy.io.fits as fitsio\n",
    "from astropy.coordinates import SkyCoord\n",
    "import astropy.units as u\n",
    "\n",
    "import galstreams \n",
    "\n",
    "import sys\n",
    "sys.path.append('/Users/nora/code/slegs')\n",
    "sys.path.append('/Users/nora/projects/stream_search/code')"
   ]
  },
  {
   "cell_type": "code",
   "execution_count": 10,
   "metadata": {},
   "outputs": [],
   "source": [
    "import os\n",
    "os.environ['KMP_DUPLICATE_LIB_OK'] = 'True'\n",
    "\n",
    "import warnings\n",
    "warnings.filterwarnings('ignore')"
   ]
  },
  {
   "cell_type": "code",
   "execution_count": 11,
   "metadata": {},
   "outputs": [
    {
     "data": {
      "text/plain": [
       "<module 'stream_helpers' from '/Users/nora/code/slegs/stream_helpers/__init__.py'>"
      ]
     },
     "execution_count": 11,
     "metadata": {},
     "output_type": "execute_result"
    }
   ],
   "source": [
    "import stream_helpers\n",
    "reload(stream_helpers)"
   ]
  },
  {
   "cell_type": "code",
   "execution_count": 12,
   "metadata": {
    "scrolled": true
   },
   "outputs": [],
   "source": [
    "import plot_density\n",
    "import plot_density_healpy\n",
    "import load_data"
   ]
  },
  {
   "cell_type": "code",
   "execution_count": 13,
   "metadata": {},
   "outputs": [],
   "source": [
    "import matplotlib as mpl\n",
    "plot_density.plot_pretty(fontsize=15)\n",
    "mpl.rcParams['savefig.dpi'] = 80\n",
    "mpl.rcParams['figure.dpi'] = 80"
   ]
  },
  {
   "cell_type": "code",
   "execution_count": 14,
   "metadata": {},
   "outputs": [],
   "source": [
    "mw_streams = galstreams.MWStreams(verbose=False)"
   ]
  },
  {
   "cell_type": "code",
   "execution_count": 15,
   "metadata": {},
   "outputs": [
    {
     "name": "stdout",
     "output_type": "stream",
     "text": [
      "Reading /Users/nora/projects/stream_search/data/DECaLS_iso_hpxcube_z0.0001_a13.5_gmax23.fits.gz...\n",
      "Reading ../data/DECaLS_nside128.fits.gz...\n",
      "Reading /Users/nora/projects/stream_search/data/DECaLS_iso_hpxcube_z0.0001_a13.5_gmax22.fits.gz...\n",
      "Reading ../data/DECaLS_nside128.fits.gz...\n",
      "Reading /Users/nora/projects/stream_search/data/DECaLS_iso_hpxcube_z0.0010_a11.0_gmax23.fits.gz...\n",
      "Reading ../data/DECaLS_nside128.fits.gz...\n"
     ]
    }
   ],
   "source": [
    "reload(load_data)\n",
    "\n",
    "# filename_south = '/Users/nora/projects/stream_search/data/DECaLS_iso_hpxcube_z0.0001_a13.5_gmax23.fits.gz'\n",
    "# filename_north = '/Users/nora/projects/stream_search/data/BASS_iso_hpxcube_z0.0001_a13.5_gmax23.fits.gz'\n",
    "\n",
    "# hpxcube_south, fracdet_south, modulus = load_data.load_hpxcube(filename_south)\n",
    "# hpxcube_north, fracdet_north, modulus = load_data.load_hpxcube(filename_north)\n",
    "\n",
    "hpxcube_south, fracdet_south, modulus = load_data.load_data('DECaLS', 0.0001, 13.5, 23.0)\n",
    "hpxcube_south_22, fracdet_south, modulus = load_data.load_data('DECaLS', 0.0001, 13.5, 22.0)\n",
    "hpxcube_south_pal13, fracdet_south, modulus = load_data.load_data('DECaLS', 0.0010, 11.0, 23.0)\n",
    "# hpxcube_north, fracdet_north, modulus = load_data.load_data('BASS', 0.0001, 13.5, 23.0)"
   ]
  },
  {
   "cell_type": "code",
   "execution_count": 16,
   "metadata": {},
   "outputs": [
    {
     "name": "stdout",
     "output_type": "stream",
     "text": [
      "True\n",
      "2082.0 1530.0 2082.0\n"
     ]
    }
   ],
   "source": [
    "print(np.all(hpxcube_south == hpxcube_south_22))\n",
    "print(hpxcube_south.max(), hpxcube_south_pal13.max(), hpxcube_south_22.max())"
   ]
  },
  {
   "cell_type": "code",
   "execution_count": 16,
   "metadata": {
    "scrolled": false
   },
   "outputs": [
    {
     "name": "stdout",
     "output_type": "stream",
     "text": [
      "16.505149978319906 16.505149978319906\n"
     ]
    },
    {
     "ename": "AttributeError",
     "evalue": "'numpy.ndarray' object has no attribute 'end_f'",
     "output_type": "error",
     "traceback": [
      "\u001b[0;31m---------------------------------------------------------------------------\u001b[0m",
      "\u001b[0;31mAttributeError\u001b[0m                            Traceback (most recent call last)",
      "\u001b[0;32m<ipython-input-16-ee49f57d711a>\u001b[0m in \u001b[0;36m<module>\u001b[0;34m()\u001b[0m\n\u001b[1;32m      3\u001b[0m \u001b[0mhpxcube\u001b[0m \u001b[0;34m=\u001b[0m \u001b[0mhpxcube_south\u001b[0m\u001b[0;34m\u001b[0m\u001b[0;34m\u001b[0m\u001b[0m\n\u001b[1;32m      4\u001b[0m \u001b[0mmu\u001b[0m \u001b[0;34m=\u001b[0m \u001b[0mplot_density\u001b[0m\u001b[0;34m.\u001b[0m\u001b[0mdist2mod\u001b[0m\u001b[0;34m(\u001b[0m\u001b[0mmw_streams\u001b[0m\u001b[0;34m[\u001b[0m\u001b[0mstream\u001b[0m\u001b[0;34m]\u001b[0m\u001b[0;34m.\u001b[0m\u001b[0mRhel\u001b[0m\u001b[0;34m[\u001b[0m\u001b[0;36m0\u001b[0m\u001b[0;34m]\u001b[0m\u001b[0;34m)\u001b[0m\u001b[0;34m\u001b[0m\u001b[0;34m\u001b[0m\u001b[0m\n\u001b[0;32m----> 5\u001b[0;31m \u001b[0max\u001b[0m\u001b[0;34m,\u001b[0m \u001b[0mproj\u001b[0m \u001b[0;34m=\u001b[0m \u001b[0mplot_density_healpy\u001b[0m\u001b[0;34m.\u001b[0m\u001b[0mplot_stream\u001b[0m\u001b[0;34m(\u001b[0m\u001b[0mstream\u001b[0m\u001b[0;34m,\u001b[0m \u001b[0mhpxcube\u001b[0m\u001b[0;34m,\u001b[0m \u001b[0mmodulus\u001b[0m\u001b[0;34m,\u001b[0m \u001b[0mmu_min\u001b[0m\u001b[0;34m=\u001b[0m\u001b[0mmu\u001b[0m\u001b[0;34m,\u001b[0m \u001b[0mmu_max\u001b[0m\u001b[0;34m=\u001b[0m\u001b[0mmu\u001b[0m\u001b[0;34m,\u001b[0m \u001b[0msave\u001b[0m\u001b[0;34m=\u001b[0m\u001b[0;32mFalse\u001b[0m\u001b[0;34m)\u001b[0m\u001b[0;34m\u001b[0m\u001b[0;34m\u001b[0m\u001b[0m\n\u001b[0m\u001b[1;32m      6\u001b[0m \u001b[0mridge\u001b[0m \u001b[0;34m=\u001b[0m \u001b[0mstream_helpers\u001b[0m\u001b[0;34m.\u001b[0m\u001b[0mplot\u001b[0m\u001b[0;34m.\u001b[0m\u001b[0mStreamRidgeBuilder\u001b[0m\u001b[0;34m(\u001b[0m\u001b[0max\u001b[0m\u001b[0;34m,\u001b[0m \u001b[0mproj\u001b[0m\u001b[0;34m)\u001b[0m\u001b[0;34m\u001b[0m\u001b[0;34m\u001b[0m\u001b[0m\n\u001b[1;32m      7\u001b[0m \u001b[0mplt\u001b[0m\u001b[0;34m.\u001b[0m\u001b[0mshow\u001b[0m\u001b[0;34m(\u001b[0m\u001b[0;34m)\u001b[0m\u001b[0;34m\u001b[0m\u001b[0;34m\u001b[0m\u001b[0m\n",
      "\u001b[0;32m/Users/nora/projects/stream_search/code/plot_density_healpy.py\u001b[0m in \u001b[0;36mplot_stream\u001b[0;34m(hpxcube, modulus, stream, ends, mu_min, mu_max, reso, smoothing, savedir, save, plot_streams)\u001b[0m\n\u001b[1;32m     62\u001b[0m             \u001b[0mstream\u001b[0m \u001b[0;34m=\u001b[0m \u001b[0mmw_streams\u001b[0m\u001b[0;34m[\u001b[0m\u001b[0mstream\u001b[0m\u001b[0;34m]\u001b[0m\u001b[0;34m\u001b[0m\u001b[0;34m\u001b[0m\u001b[0m\n\u001b[1;32m     63\u001b[0m         \u001b[0;31m# ends = [[stream.end_o.ra.deg, stream.end_o.dec.deg], [stream.end_f.ra.deg, stream.end_f.dec.deg]]\u001b[0m\u001b[0;34m\u001b[0m\u001b[0;34m\u001b[0m\u001b[0;34m\u001b[0m\u001b[0m\n\u001b[0;32m---> 64\u001b[0;31m         \u001b[0mends\u001b[0m \u001b[0;34m=\u001b[0m \u001b[0;34m[\u001b[0m\u001b[0;34m[\u001b[0m\u001b[0mstream\u001b[0m\u001b[0;34m.\u001b[0m\u001b[0mend_f\u001b[0m\u001b[0;34m.\u001b[0m\u001b[0mra\u001b[0m\u001b[0;34m.\u001b[0m\u001b[0mdeg\u001b[0m\u001b[0;34m,\u001b[0m \u001b[0mstream\u001b[0m\u001b[0;34m.\u001b[0m\u001b[0mend_f\u001b[0m\u001b[0;34m.\u001b[0m\u001b[0mdec\u001b[0m\u001b[0;34m.\u001b[0m\u001b[0mdeg\u001b[0m\u001b[0;34m]\u001b[0m\u001b[0;34m,\u001b[0m \u001b[0;34m[\u001b[0m\u001b[0mstream\u001b[0m\u001b[0;34m.\u001b[0m\u001b[0mend_o\u001b[0m\u001b[0;34m.\u001b[0m\u001b[0mra\u001b[0m\u001b[0;34m.\u001b[0m\u001b[0mdeg\u001b[0m\u001b[0;34m,\u001b[0m \u001b[0mstream\u001b[0m\u001b[0;34m.\u001b[0m\u001b[0mend_o\u001b[0m\u001b[0;34m.\u001b[0m\u001b[0mdec\u001b[0m\u001b[0;34m.\u001b[0m\u001b[0mdeg\u001b[0m\u001b[0;34m]\u001b[0m\u001b[0;34m]\u001b[0m\u001b[0;34m\u001b[0m\u001b[0;34m\u001b[0m\u001b[0m\n\u001b[0m\u001b[1;32m     65\u001b[0m         \u001b[0mname\u001b[0m \u001b[0;34m=\u001b[0m \u001b[0mstream\u001b[0m\u001b[0;34m.\u001b[0m\u001b[0mname\u001b[0m\u001b[0;34m.\u001b[0m\u001b[0mreplace\u001b[0m\u001b[0;34m(\u001b[0m\u001b[0;34m' '\u001b[0m\u001b[0;34m,\u001b[0m \u001b[0;34m'_'\u001b[0m\u001b[0;34m)\u001b[0m\u001b[0;34m\u001b[0m\u001b[0;34m\u001b[0m\u001b[0m\n\u001b[1;32m     66\u001b[0m     \u001b[0;32melse\u001b[0m\u001b[0;34m:\u001b[0m\u001b[0;34m\u001b[0m\u001b[0;34m\u001b[0m\u001b[0m\n",
      "\u001b[0;31mAttributeError\u001b[0m: 'numpy.ndarray' object has no attribute 'end_f'"
     ]
    }
   ],
   "source": [
    "reload(plot_density_healpy)\n",
    "stream = 'ATLAS'\n",
    "hpxcube = hpxcube_south\n",
    "mu = plot_density.dist2mod(mw_streams[stream].Rhel[0])\n",
    "ax, proj = plot_density_healpy.plot_stream(stream, hpxcube, modulus, mu_min=mu, mu_max=mu, save=False)\n",
    "ridge = stream_helpers.plot.StreamRidgeBuilder(ax, proj)\n",
    "plt.show()"
   ]
  },
  {
   "cell_type": "code",
   "execution_count": 91,
   "metadata": {},
   "outputs": [
    {
     "data": {
      "text/plain": [
       "4.11361552729184"
      ]
     },
     "execution_count": 91,
     "metadata": {},
     "output_type": "execute_result"
    }
   ],
   "source": [
    "data_south.fill_value"
   ]
  },
  {
   "cell_type": "code",
   "execution_count": 123,
   "metadata": {},
   "outputs": [],
   "source": [
    "data_north = plot_density_healpy.prepare_data(mu, hpxcube_north, modulus, fracdet_north, sigma=0.2, fracmin=0.5, clip=100, sgr=True, acs=False, globs_dwarfs=True)\n",
    "data_south = plot_density_healpy.prepare_data(mu, hpxcube_south, modulus, fracdet_south, sigma=0.2, fracmin=0.5, clip=100, sgr=True, acs=False, globs_dwarfs=True)\n",
    "\n",
    "data_combo = np.ma.array(np.dstack((data_south, data_north)), mask=np.dstack((data_south.mask, data_north.mask)))\n",
    "data_combo = np.amax(data_combo, axis=2)[0]\n",
    "\n",
    "# ??\n",
    "data_combo2 = np.ma.array(np.maximum(data_north.filled(), data_south.filled()), mask=(data_north.mask * data_south.mask))"
   ]
  },
  {
   "cell_type": "code",
   "execution_count": 122,
   "metadata": {},
   "outputs": [
    {
     "data": {
      "text/plain": [
       "((3145728,), (3145728,))"
      ]
     },
     "execution_count": 122,
     "metadata": {},
     "output_type": "execute_result"
    }
   ],
   "source": [
    "# data_combo[~data_combo.mask][12], data_combo2[~data_combo2.mask][12]\n",
    "data_combo2.shape, data_combo.shape"
   ]
  },
  {
   "cell_type": "code",
   "execution_count": 15,
   "metadata": {},
   "outputs": [
    {
     "name": "stdout",
     "output_type": "stream",
     "text": [
      "20.0 15.054701128833468 0.0009169081256457797\n"
     ]
    },
    {
     "data": {
      "application/vnd.jupyter.widget-view+json": {
       "model_id": "e155db10baa147729e9003a9d547c671",
       "version_major": 2,
       "version_minor": 0
      },
      "text/plain": [
       "Canvas(toolbar=Toolbar(toolitems=[('Home', 'Reset original view', 'home', 'home'), ('Back', 'Back to  previous…"
      ]
     },
     "metadata": {},
     "output_type": "display_data"
    }
   ],
   "source": [
    "import plot_density_healpy\n",
    "reload(plot_density_healpy)\n",
    "import load_data\n",
    "reload(load_data)\n",
    "import streamlib\n",
    "reload(streamlib)\n",
    "import healpy as hp\n",
    "from matplotlib.path import Path\n",
    "\n",
    "mu = 16.0\n",
    "# hpxcube, fracdet, modulus = load_data.load_data(survey='DECaLS', z=0.0001, age=13.5, gmax=23.0)\n",
    "# proj = plot_density_healpy.get_mollweide_proj(ends=[[25,5],[35,15]])\n",
    "# proj = plot_density_healpy.get_mollweide_proj(ends=[[180,15],[190,15]])\n",
    "# proj = plot_density_healpy.get_ortho_proj(ends=[[20,-30],[30,-30]], half_sky=False)\n",
    "proj = plot_density_healpy.get_ortho_proj(ends=[[15,15],[25,15]], half_sky=False)\n",
    "# proj = plot_density_healpy.get_ortho_proj(ends=[[175,80],[185,80]], half_sky=True)\n",
    "\n",
    "# data_north = plot_density_healpy.prepare_data(mu, hpxcube_north, modulus, fracdet_north, sigma=0.2, fracmin=0.5, clip=100, sgr=True, acs=False, globs_dwarfs=True)\n",
    "\n",
    "data_south = plot_density_healpy.prepare_data(mu, hpxcube_south, modulus, fracdet_south, sigma=0.2, fracmin=0.5, clip=100, sgr=True, acs=False, globs_dwarfs=True)\n",
    "\n",
    "# data = plot_density_healpy.prepare_data(mu, hpxcube_south, modulus, fracdet_south, sigma=0.2, fracmin=0.5, clip=100, sgr=True, globs_dwarfs=True)\n",
    "\n",
    "# vertices = [[-77 + 360, 55], [-70 + 360, 63], [121, 60], [130, 60]]\n",
    "# vertices = [[121, 60], [130, 60], [-70 + 360, 63], [-77 + 360, 55]]\n",
    "# vertices = [[130.51799825396026, 59.61138389105161], [130.04801319492225, 59.771788065922], [136.65142686113114, 66.93623360207783], [154.25276242691203, 75.70847892288839], [-140.0559171050069, 79.15672373365847], [-103.0035577531373, 72.38429753782367], [-89.40816586805668, 64.21056390351187], [-80.20728856032169, 60.18192420672642], [-73.7049133266682, 68.69322096590315], [-86.94435962076743, 77.75567971214596], [-148.95250964615684, 86.64765850626702], [139.2561269645677, 81.45415927741857], [126.62452372103354, 76.26492694944162], [124.00488059742018, 71.16860304220891], [120.70449320439651, 60.1950320472343], [129.48523845858222, 60.32739572103568]]\n",
    "\n",
    "# vertices = [[130, 60], [135, 65], [155, 75], [-140+360, 80], [-100+360, 72], [-90+360, 65], [-80+360, 60], [-75+360, 68], [-85+360, 78], [-150+360, 86], [140, 80], [125, 75], [125, 70], [120, 60], [130, 60]]\n",
    "# print(vertices)\n",
    "# vertices = [[120, 15], [120, 30], [-125+360, 5], [-130+360, -10]]\n",
    "# vertices = [[120, 23], [-125, -3], [-130, -10], [120, 15]]\n",
    "# # vertices = [(0, -30), (47, -3), (47, +7), (36, +7), (5, -11)]\n",
    "\n",
    "# vertices = [[-50, 90], [-130, 30], [-50, 30]]\n",
    "\n",
    "# nside = 512\n",
    "# mask = np.zeros(hp.nside2npix(nside), dtype=bool)\n",
    "# ra, dec = hp.pix2ang(nside, np.arange(hp.nside2npix(nside)), lonlat=True)\n",
    "# # ra = ra - 360 * (ra > 180)\n",
    "# mask[Path(vertices).contains_points(np.array([ra, dec]).T)] = True\n",
    "\n",
    "# ax = plot_density_healpy.plot_proj(proj, data_combo)\n",
    "ax = plot_density_healpy.plot_proj(proj, data_south)\n",
    "# ax = plot_density_healpy.plot_proj(proj, data_north)\n",
    "\n",
    "# rav, decv = zip(*vertices)\n",
    "# x, y = proj.ang2xy(rav, decv, lonlat=True)\n",
    "# ax.plot(x, y, 'r.')\n",
    "\n",
    "# ax = plot_density_healpy.plot_proj(proj, mask, vmin=-1, vmax=2)\n",
    "# ax.plot(x, y, 'r.')\n",
    "\n",
    "ridge = stream_helpers.plot.StreamRidgeBuilder(ax, proj)\n",
    "plt.show()"
   ]
  },
  {
   "cell_type": "code",
   "execution_count": 29,
   "metadata": {},
   "outputs": [
    {
     "name": "stdout",
     "output_type": "stream",
     "text": [
      "13.0 13.047961797466591 0.00192571085982768\n",
      "16.8\n"
     ]
    },
    {
     "data": {
      "application/vnd.jupyter.widget-view+json": {
       "model_id": "30d76b6cdf0c4812891d37e003975a21",
       "version_major": 2,
       "version_minor": 0
      },
      "text/plain": [
       "Canvas(toolbar=Toolbar(toolitems=[('Home', 'Reset original view', 'home', 'home'), ('Back', 'Back to  previous…"
      ]
     },
     "metadata": {},
     "output_type": "display_data"
    }
   ],
   "source": [
    "import plot_density_healpy\n",
    "reload(plot_density_healpy)\n",
    "import load_data\n",
    "reload(load_data)\n",
    "import streamlib\n",
    "reload(streamlib)\n",
    "import healpy as hp\n",
    "from matplotlib.path import Path\n",
    "\n",
    "proj1 = plot_density_healpy.get_ortho_proj(ends=[[8,13],[18,13]], half_sky=True)\n",
    "\n",
    "mu = 16.8\n",
    "print(mu)\n",
    "    \n",
    "data_south = plot_density_healpy.prepare_data(mu, hpxcube_south, modulus, fracdet_south, sigma=0.2, fracmin=0.5, clip=100, sgr=True, acs=False, globs_dwarfs=True)\n",
    "data_south_unm = plot_density_healpy.prepare_data(mu, hpxcube_south, modulus, fracdet_south, sigma=0.2, fracmin=0.5, clip=100, lmc=False, milky_way=False, sgr=False, globulars=False, dwarfs=False, galaxies=False, plane=False, center=False, globs_dwarfs=False, acs=False)\n",
    "bkg1 = plot_density_healpy.fit_bkg(data_south, proj1, sigma=0.1)\n",
    "bkg1.mask = data_south_unm.mask\n",
    "    \n",
    "ax1 = plot_density_healpy.plot_proj(proj1, data_south_unm-bkg1, vmin=-2, vmax=2)\n",
    "ax1.set_title(r'$m - M = %.1f$' %mu)\n",
    "xmin, xmax, ymin, ymax = -0.6, 0.8, -0.5, 0.4\n",
    "ax1.set_xlim(xmin, xmax)\n",
    "ax1.set_ylim(ymin, ymax)\n",
    "\n",
    "ridge = stream_helpers.plot.StreamRidgeBuilder(ax1, proj1)\n",
    "plt.show()"
   ]
  },
  {
   "cell_type": "code",
   "execution_count": 19,
   "metadata": {},
   "outputs": [
    {
     "name": "stdout",
     "output_type": "stream",
     "text": [
      "13.0 13.047961797466591 0.004856429615354606\n",
      "16.8\n"
     ]
    },
    {
     "data": {
      "application/vnd.jupyter.widget-view+json": {
       "model_id": "",
       "version_major": 2,
       "version_minor": 0
      },
      "text/plain": [
       "Canvas(toolbar=Toolbar(toolitems=[('Home', 'Reset original view', 'home', 'home'), ('Back', 'Back to  previous…"
      ]
     },
     "metadata": {},
     "output_type": "display_data"
    }
   ],
   "source": [
    "import plot_density_healpy\n",
    "reload(plot_density_healpy)\n",
    "import load_data\n",
    "reload(load_data)\n",
    "import streamlib\n",
    "reload(streamlib)\n",
    "import healpy as hp\n",
    "from matplotlib.path import Path\n",
    "\n",
    "proj1 = plot_density_healpy.get_ortho_proj(ends=[[8,13],[18,13]], half_sky=True)\n",
    "\n",
    "mu = 16.8\n",
    "print(mu)\n",
    "    \n",
    "data_south = plot_density_healpy.prepare_data(mu, hpxcube_south_pal13, modulus, fracdet_south, sigma=0.2, fracmin=0.5, clip=100, sgr=True, acs=False, globs_dwarfs=True)\n",
    "data_south_unm = plot_density_healpy.prepare_data(mu, hpxcube_south_pal13, modulus, fracdet_south, sigma=0.2, fracmin=0.5, clip=100, lmc=False, milky_way=False, sgr=False, globulars=False, dwarfs=False, galaxies=False, plane=False, center=False, globs_dwarfs=False, acs=False)\n",
    "bkg1 = plot_density_healpy.fit_bkg(data_south, proj1, sigma=0.1)\n",
    "bkg1.mask = data_south_unm.mask\n",
    "    \n",
    "ax1, im1 = plot_density_healpy.plot_proj(proj1, data_south_unm-bkg1, vmin=-2, vmax=2)\n",
    "ax1.set_title(r'$m - M = %.1f$' %mu)\n",
    "xmin, xmax, ymin, ymax = -0.6, 0.8, -0.5, 0.4\n",
    "ax1.set_xlim(xmin, xmax)\n",
    "ax1.set_ylim(ymin, ymax)\n",
    "\n",
    "ridge = stream_helpers.plot.StreamRidgeBuilder(ax1, proj1)\n",
    "plt.show()"
   ]
  },
  {
   "cell_type": "code",
   "execution_count": 17,
   "metadata": {},
   "outputs": [
    {
     "name": "stdout",
     "output_type": "stream",
     "text": [
      "13.0 13.047961797466591 -0.014293910167049962\n",
      "16.8\n"
     ]
    },
    {
     "data": {
      "application/vnd.jupyter.widget-view+json": {
       "model_id": "",
       "version_major": 2,
       "version_minor": 0
      },
      "text/plain": [
       "Canvas(toolbar=Toolbar(toolitems=[('Home', 'Reset original view', 'home', 'home'), ('Back', 'Back to  previous…"
      ]
     },
     "metadata": {},
     "output_type": "display_data"
    }
   ],
   "source": [
    "import plot_density_healpy\n",
    "reload(plot_density_healpy)\n",
    "import load_data\n",
    "reload(load_data)\n",
    "import streamlib\n",
    "reload(streamlib)\n",
    "import healpy as hp\n",
    "from matplotlib.path import Path\n",
    "\n",
    "proj1 = plot_density_healpy.get_ortho_proj(ends=[[8,13],[18,13]], half_sky=True, xsize=3000)\n",
    "\n",
    "mu = 16.8\n",
    "print(mu)\n",
    "    \n",
    "# data_south = plot_density_healpy.prepare_data(mu, hpxcube_south, modulus, fracdet_south, sigma=0.2, fracmin=0.5, clip=100, sgr=True, acs=False, globs_dwarfs=True)\n",
    "# data_south_unm = plot_density_healpy.prepare_data(mu, hpxcube_south, modulus, fracdet_south, sigma=0.2, fracmin=0.5, clip=100, lmc=False, milky_way=False, sgr=False, globulars=False, dwarfs=False, galaxies=False, plane=False, center=False, globs_dwarfs=False, acs=False)\n",
    "# bkg1 = plot_density_healpy.fit_bkg(data_south, proj1, sigma=0.1)\n",
    "# bkg1.mask = data_south_unm.mask\n",
    "    \n",
    "# ax1 = plot_density_healpy.plot_proj(proj1, data_south_unm-bkg1, vmin=-1, vmax=1)\n",
    "# ax1.set_title(r'$m - M = %.1f$' %mu)\n",
    "# xmin, xmax, ymin, ymax = 0.2, 0.6, -0.2, 0.2\n",
    "# ax1.set_xlim(xmin, xmax)\n",
    "# ax1.set_ylim(ymin, ymax)\n",
    "\n",
    "#########################\n",
    "\n",
    "data_south = plot_density_healpy.prepare_data(mu, hpxcube_south_pal13, modulus, fracdet_south, sigma=0.2, fracmin=0.5, clip=100, sgr=True, acs=False, globs_dwarfs=True)\n",
    "data_south_unm = plot_density_healpy.prepare_data(mu, hpxcube_south_pal13, modulus, fracdet_south, sigma=0.0, fracmin=0.5, clip=100, lmc=False, milky_way=False, sgr=False, globulars=False, dwarfs=False, galaxies=False, plane=False, center=False, globs_dwarfs=False, acs=False)\n",
    "bkg1 = plot_density_healpy.fit_bkg(data_south, proj1, sigma=0.1)\n",
    "bkg1.mask = data_south_unm.mask\n",
    "    \n",
    "# ax1 = plot_density_healpy.plot_proj(proj1, data_south_unm-bkg1, vmin=-1, vmax=1)\n",
    "# ax1 = plot_density_healpy.plot_proj(proj1, bkg1)\n",
    "ax1, im1 = plot_density_healpy.plot_proj(proj1, data_south_unm, vmin=0, vmax=3.5)\n",
    "import plot_hess\n",
    "plot_hess.colorbar(im1)\n",
    "# hpxmap = hpxcube_south[:,np.argmin(np.abs(modulus - mu))]\n",
    "# ax1 = plot_density_healpy.plot_proj(proj1, hpxmap)\n",
    "ax1.set_title(r'$m - M = %.1f$' %mu)\n",
    "xmin, xmax, ymin, ymax = 0.2, 0.6, -0.2, 0.2\n",
    "ax1.set_xlim(xmin, xmax)\n",
    "ax1.set_ylim(ymin, ymax)\n",
    "\n",
    "ridge = stream_helpers.plot.StreamRidgeBuilder(ax1, proj1)\n",
    "plt.show()"
   ]
  },
  {
   "cell_type": "code",
   "execution_count": null,
   "metadata": {},
   "outputs": [],
   "source": []
  },
  {
   "cell_type": "markdown",
   "metadata": {},
   "source": [
    "# Movie"
   ]
  },
  {
   "cell_type": "code",
   "execution_count": 20,
   "metadata": {},
   "outputs": [
    {
     "name": "stdout",
     "output_type": "stream",
     "text": [
      "13.0 13.047961797466591 -0.0070511164112471054\n",
      "15.0\n"
     ]
    },
    {
     "data": {
      "application/vnd.jupyter.widget-view+json": {
       "model_id": "",
       "version_major": 2,
       "version_minor": 0
      },
      "text/plain": [
       "Canvas(toolbar=Toolbar(toolitems=[('Home', 'Reset original view', 'home', 'home'), ('Back', 'Back to  previous…"
      ]
     },
     "metadata": {},
     "output_type": "display_data"
    },
    {
     "name": "stdout",
     "output_type": "stream",
     "text": [
      "16.0\n"
     ]
    },
    {
     "ename": "KeyboardInterrupt",
     "evalue": "",
     "output_type": "error",
     "traceback": [
      "\u001b[0;31m---------------------------------------------------------------------------\u001b[0m",
      "\u001b[0;31mKeyboardInterrupt\u001b[0m                         Traceback (most recent call last)",
      "\u001b[0;32m<ipython-input-20-6d416e6d954d>\u001b[0m in \u001b[0;36m<module>\u001b[0;34m()\u001b[0m\n\u001b[1;32m     13\u001b[0m     \u001b[0mprint\u001b[0m\u001b[0;34m(\u001b[0m\u001b[0mmu\u001b[0m\u001b[0;34m)\u001b[0m\u001b[0;34m\u001b[0m\u001b[0;34m\u001b[0m\u001b[0m\n\u001b[1;32m     14\u001b[0m \u001b[0;34m\u001b[0m\u001b[0m\n\u001b[0;32m---> 15\u001b[0;31m     \u001b[0mdata_south\u001b[0m \u001b[0;34m=\u001b[0m \u001b[0mplot_density_healpy\u001b[0m\u001b[0;34m.\u001b[0m\u001b[0mprepare_data\u001b[0m\u001b[0;34m(\u001b[0m\u001b[0mmu\u001b[0m\u001b[0;34m,\u001b[0m \u001b[0mhpxcube_south_pal13\u001b[0m\u001b[0;34m,\u001b[0m \u001b[0mmodulus\u001b[0m\u001b[0;34m,\u001b[0m \u001b[0mfracdet_south\u001b[0m\u001b[0;34m,\u001b[0m \u001b[0msigma\u001b[0m\u001b[0;34m=\u001b[0m\u001b[0;36m0.2\u001b[0m\u001b[0;34m,\u001b[0m \u001b[0mfracmin\u001b[0m\u001b[0;34m=\u001b[0m\u001b[0;36m0.5\u001b[0m\u001b[0;34m,\u001b[0m \u001b[0mclip\u001b[0m\u001b[0;34m=\u001b[0m\u001b[0;36m100\u001b[0m\u001b[0;34m,\u001b[0m \u001b[0msgr\u001b[0m\u001b[0;34m=\u001b[0m\u001b[0;32mTrue\u001b[0m\u001b[0;34m,\u001b[0m \u001b[0macs\u001b[0m\u001b[0;34m=\u001b[0m\u001b[0;32mFalse\u001b[0m\u001b[0;34m,\u001b[0m \u001b[0mglobs_dwarfs\u001b[0m\u001b[0;34m=\u001b[0m\u001b[0;32mTrue\u001b[0m\u001b[0;34m)\u001b[0m\u001b[0;34m\u001b[0m\u001b[0;34m\u001b[0m\u001b[0m\n\u001b[0m\u001b[1;32m     16\u001b[0m     \u001b[0mdata_south_unm\u001b[0m \u001b[0;34m=\u001b[0m \u001b[0mplot_density_healpy\u001b[0m\u001b[0;34m.\u001b[0m\u001b[0mprepare_data\u001b[0m\u001b[0;34m(\u001b[0m\u001b[0mmu\u001b[0m\u001b[0;34m,\u001b[0m \u001b[0mhpxcube_south_pal13\u001b[0m\u001b[0;34m,\u001b[0m \u001b[0mmodulus\u001b[0m\u001b[0;34m,\u001b[0m \u001b[0mfracdet_south\u001b[0m\u001b[0;34m,\u001b[0m \u001b[0msigma\u001b[0m\u001b[0;34m=\u001b[0m\u001b[0;36m0.2\u001b[0m\u001b[0;34m,\u001b[0m \u001b[0mfracmin\u001b[0m\u001b[0;34m=\u001b[0m\u001b[0;36m0.5\u001b[0m\u001b[0;34m,\u001b[0m \u001b[0mclip\u001b[0m\u001b[0;34m=\u001b[0m\u001b[0;36m100\u001b[0m\u001b[0;34m,\u001b[0m \u001b[0mlmc\u001b[0m\u001b[0;34m=\u001b[0m\u001b[0;32mFalse\u001b[0m\u001b[0;34m,\u001b[0m \u001b[0mmilky_way\u001b[0m\u001b[0;34m=\u001b[0m\u001b[0;32mFalse\u001b[0m\u001b[0;34m,\u001b[0m \u001b[0msgr\u001b[0m\u001b[0;34m=\u001b[0m\u001b[0;32mFalse\u001b[0m\u001b[0;34m,\u001b[0m \u001b[0mglobulars\u001b[0m\u001b[0;34m=\u001b[0m\u001b[0;32mFalse\u001b[0m\u001b[0;34m,\u001b[0m \u001b[0mdwarfs\u001b[0m\u001b[0;34m=\u001b[0m\u001b[0;32mFalse\u001b[0m\u001b[0;34m,\u001b[0m \u001b[0mgalaxies\u001b[0m\u001b[0;34m=\u001b[0m\u001b[0;32mFalse\u001b[0m\u001b[0;34m,\u001b[0m \u001b[0mplane\u001b[0m\u001b[0;34m=\u001b[0m\u001b[0;32mFalse\u001b[0m\u001b[0;34m,\u001b[0m \u001b[0mcenter\u001b[0m\u001b[0;34m=\u001b[0m\u001b[0;32mFalse\u001b[0m\u001b[0;34m,\u001b[0m \u001b[0mglobs_dwarfs\u001b[0m\u001b[0;34m=\u001b[0m\u001b[0;32mFalse\u001b[0m\u001b[0;34m,\u001b[0m \u001b[0macs\u001b[0m\u001b[0;34m=\u001b[0m\u001b[0;32mFalse\u001b[0m\u001b[0;34m)\u001b[0m\u001b[0;34m\u001b[0m\u001b[0;34m\u001b[0m\u001b[0m\n\u001b[1;32m     17\u001b[0m     \u001b[0mbkg1\u001b[0m \u001b[0;34m=\u001b[0m \u001b[0mplot_density_healpy\u001b[0m\u001b[0;34m.\u001b[0m\u001b[0mfit_bkg\u001b[0m\u001b[0;34m(\u001b[0m\u001b[0mdata_south\u001b[0m\u001b[0;34m,\u001b[0m \u001b[0mproj1\u001b[0m\u001b[0;34m,\u001b[0m \u001b[0msigma\u001b[0m\u001b[0;34m=\u001b[0m\u001b[0;36m0.1\u001b[0m\u001b[0;34m)\u001b[0m\u001b[0;34m\u001b[0m\u001b[0;34m\u001b[0m\u001b[0m\n",
      "\u001b[0;32m/Users/nora/projects/stream_search/code/plot_density_healpy.py\u001b[0m in \u001b[0;36mprepare_data\u001b[0;34m(mu, hpxcube, modulus, fracdet, fracmin, clip, sigma, percent, **mask_kw)\u001b[0m\n\u001b[1;32m    211\u001b[0m     \u001b[0;31m# fracdet[hpxmap == hp.UNSEEN] = 0\u001b[0m\u001b[0;34m\u001b[0m\u001b[0;34m\u001b[0m\u001b[0;34m\u001b[0m\u001b[0m\n\u001b[1;32m    212\u001b[0m \u001b[0;34m\u001b[0m\u001b[0m\n\u001b[0;32m--> 213\u001b[0;31m     \u001b[0mdata\u001b[0m \u001b[0;34m=\u001b[0m \u001b[0mstreamlib\u001b[0m\u001b[0;34m.\u001b[0m\u001b[0mprepare_data\u001b[0m\u001b[0;34m(\u001b[0m\u001b[0mhpxmap\u001b[0m\u001b[0;34m,\u001b[0m \u001b[0mfracdet\u001b[0m\u001b[0;34m,\u001b[0m \u001b[0mfracmin\u001b[0m\u001b[0;34m=\u001b[0m\u001b[0mfracmin\u001b[0m\u001b[0;34m,\u001b[0m \u001b[0mclip\u001b[0m\u001b[0;34m=\u001b[0m\u001b[0mclip\u001b[0m\u001b[0;34m,\u001b[0m \u001b[0mmask_kw\u001b[0m\u001b[0;34m=\u001b[0m\u001b[0mmask_kw\u001b[0m\u001b[0;34m)\u001b[0m\u001b[0;34m\u001b[0m\u001b[0;34m\u001b[0m\u001b[0m\n\u001b[0m\u001b[1;32m    214\u001b[0m     \u001b[0;31m# data = np.ma.array(hpxmap, mask=fracdet < 0.5)\u001b[0m\u001b[0;34m\u001b[0m\u001b[0;34m\u001b[0m\u001b[0;34m\u001b[0m\u001b[0m\n\u001b[1;32m    215\u001b[0m     \u001b[0;31m# data = np.ma.array(hpxmap, mask=hpxmap == hp.UNSEEN)\u001b[0m\u001b[0;34m\u001b[0m\u001b[0;34m\u001b[0m\u001b[0;34m\u001b[0m\u001b[0m\n",
      "\u001b[0;32m/Users/nora/projects/stream_search/code/streamlib.py\u001b[0m in \u001b[0;36mprepare_data\u001b[0;34m(hpxmap, fracdet, fracmin, clip, degrade, mask_kw)\u001b[0m\n\u001b[1;32m    379\u001b[0m \u001b[0;32mdef\u001b[0m \u001b[0mprepare_data\u001b[0m\u001b[0;34m(\u001b[0m\u001b[0mhpxmap\u001b[0m\u001b[0;34m,\u001b[0m \u001b[0mfracdet\u001b[0m\u001b[0;34m,\u001b[0m \u001b[0mfracmin\u001b[0m\u001b[0;34m=\u001b[0m\u001b[0mFRACMIN\u001b[0m\u001b[0;34m,\u001b[0m \u001b[0mclip\u001b[0m\u001b[0;34m=\u001b[0m\u001b[0;32mNone\u001b[0m\u001b[0;34m,\u001b[0m \u001b[0mdegrade\u001b[0m\u001b[0;34m=\u001b[0m\u001b[0;32mNone\u001b[0m\u001b[0;34m,\u001b[0m \u001b[0mmask_kw\u001b[0m\u001b[0;34m=\u001b[0m\u001b[0mdict\u001b[0m\u001b[0;34m(\u001b[0m\u001b[0;34m)\u001b[0m\u001b[0;34m)\u001b[0m\u001b[0;34m:\u001b[0m\u001b[0;34m\u001b[0m\u001b[0;34m\u001b[0m\u001b[0m\n\u001b[1;32m    380\u001b[0m     \u001b[0mnside\u001b[0m \u001b[0;34m=\u001b[0m \u001b[0mhp\u001b[0m\u001b[0;34m.\u001b[0m\u001b[0mget_nside\u001b[0m\u001b[0;34m(\u001b[0m\u001b[0mhpxmap\u001b[0m\u001b[0;34m)\u001b[0m\u001b[0;34m\u001b[0m\u001b[0;34m\u001b[0m\u001b[0m\n\u001b[0;32m--> 381\u001b[0;31m     \u001b[0mmask\u001b[0m \u001b[0;34m=\u001b[0m \u001b[0;34m(\u001b[0m\u001b[0mfracdet\u001b[0m \u001b[0;34m<\u001b[0m \u001b[0mfracmin\u001b[0m\u001b[0;34m)\u001b[0m \u001b[0;34m|\u001b[0m \u001b[0;34m(\u001b[0m\u001b[0mhpxmap\u001b[0m \u001b[0;34m>\u001b[0m \u001b[0mnp\u001b[0m\u001b[0;34m.\u001b[0m\u001b[0mpercentile\u001b[0m\u001b[0;34m(\u001b[0m\u001b[0mhpxmap\u001b[0m\u001b[0;34m,\u001b[0m \u001b[0mclip\u001b[0m\u001b[0;34m)\u001b[0m\u001b[0;34m)\u001b[0m \u001b[0;34m|\u001b[0m \u001b[0mmake_mask\u001b[0m\u001b[0;34m(\u001b[0m\u001b[0mnside\u001b[0m\u001b[0;34m,\u001b[0m \u001b[0;34m**\u001b[0m\u001b[0mmask_kw\u001b[0m\u001b[0;34m)\u001b[0m\u001b[0;34m\u001b[0m\u001b[0;34m\u001b[0m\u001b[0m\n\u001b[0m\u001b[1;32m    382\u001b[0m     \u001b[0mdata\u001b[0m \u001b[0;34m=\u001b[0m \u001b[0mnp\u001b[0m\u001b[0;34m.\u001b[0m\u001b[0mma\u001b[0m\u001b[0;34m.\u001b[0m\u001b[0marray\u001b[0m\u001b[0;34m(\u001b[0m\u001b[0mhpxmap\u001b[0m\u001b[0;34m,\u001b[0m \u001b[0mmask\u001b[0m\u001b[0;34m=\u001b[0m\u001b[0mmask\u001b[0m\u001b[0;34m,\u001b[0m \u001b[0mfill_value\u001b[0m\u001b[0;34m=\u001b[0m\u001b[0mnp\u001b[0m\u001b[0;34m.\u001b[0m\u001b[0mnan\u001b[0m\u001b[0;34m)\u001b[0m\u001b[0;34m\u001b[0m\u001b[0;34m\u001b[0m\u001b[0m\n\u001b[1;32m    383\u001b[0m     \u001b[0mdata\u001b[0m \u001b[0;34m/=\u001b[0m \u001b[0mfracdet\u001b[0m\u001b[0;34m\u001b[0m\u001b[0;34m\u001b[0m\u001b[0m\n",
      "\u001b[0;32m/Users/nora/projects/stream_search/code/streamlib.py\u001b[0m in \u001b[0;36mmake_mask\u001b[0;34m(nside, lmc, milky_way, sgr, globulars, dwarfs, galaxies, plane, bmax, center, globs_dwarfs, acs, cmax)\u001b[0m\n\u001b[1;32m    345\u001b[0m     \u001b[0;32mif\u001b[0m \u001b[0msgr\u001b[0m\u001b[0;34m:\u001b[0m\u001b[0;34m\u001b[0m\u001b[0;34m\u001b[0m\u001b[0m\n\u001b[1;32m    346\u001b[0m         \u001b[0mmask\u001b[0m \u001b[0;34m|=\u001b[0m \u001b[0mmask_sgr\u001b[0m\u001b[0;34m(\u001b[0m\u001b[0mnside\u001b[0m\u001b[0;34m)\u001b[0m\u001b[0;34m\u001b[0m\u001b[0;34m\u001b[0m\u001b[0m\n\u001b[0;32m--> 347\u001b[0;31m         \u001b[0mmask\u001b[0m \u001b[0;34m|=\u001b[0m \u001b[0mmask_sgr_north\u001b[0m\u001b[0;34m(\u001b[0m\u001b[0mnside\u001b[0m\u001b[0;34m)\u001b[0m\u001b[0;34m\u001b[0m\u001b[0;34m\u001b[0m\u001b[0m\n\u001b[0m\u001b[1;32m    348\u001b[0m     \u001b[0;32mif\u001b[0m \u001b[0mglobulars\u001b[0m\u001b[0;34m:\u001b[0m\u001b[0;34m\u001b[0m\u001b[0;34m\u001b[0m\u001b[0m\n\u001b[1;32m    349\u001b[0m         \u001b[0mmask\u001b[0m \u001b[0;34m|=\u001b[0m \u001b[0mmask_globulars\u001b[0m\u001b[0;34m(\u001b[0m\u001b[0mnside\u001b[0m\u001b[0;34m)\u001b[0m\u001b[0;34m\u001b[0m\u001b[0;34m\u001b[0m\u001b[0m\n",
      "\u001b[0;32m/Users/nora/projects/stream_search/code/streamlib.py\u001b[0m in \u001b[0;36mmask_sgr_north\u001b[0;34m(nside)\u001b[0m\n\u001b[1;32m    240\u001b[0m     \u001b[0;32mfrom\u001b[0m \u001b[0mmatplotlib\u001b[0m\u001b[0;34m.\u001b[0m\u001b[0mpath\u001b[0m \u001b[0;32mimport\u001b[0m \u001b[0mPath\u001b[0m\u001b[0;34m\u001b[0m\u001b[0;34m\u001b[0m\u001b[0m\n\u001b[1;32m    241\u001b[0m     \u001b[0mmask\u001b[0m \u001b[0;34m=\u001b[0m \u001b[0mnp\u001b[0m\u001b[0;34m.\u001b[0m\u001b[0mzeros\u001b[0m\u001b[0;34m(\u001b[0m\u001b[0mhp\u001b[0m\u001b[0;34m.\u001b[0m\u001b[0mnside2npix\u001b[0m\u001b[0;34m(\u001b[0m\u001b[0mnside\u001b[0m\u001b[0;34m)\u001b[0m\u001b[0;34m,\u001b[0m \u001b[0mdtype\u001b[0m\u001b[0;34m=\u001b[0m\u001b[0mbool\u001b[0m\u001b[0;34m)\u001b[0m\u001b[0;34m\u001b[0m\u001b[0;34m\u001b[0m\u001b[0m\n\u001b[0;32m--> 242\u001b[0;31m     \u001b[0mra\u001b[0m\u001b[0;34m,\u001b[0m \u001b[0mdec\u001b[0m \u001b[0;34m=\u001b[0m \u001b[0mhp\u001b[0m\u001b[0;34m.\u001b[0m\u001b[0mpix2ang\u001b[0m\u001b[0;34m(\u001b[0m\u001b[0mnside\u001b[0m\u001b[0;34m,\u001b[0m \u001b[0mnp\u001b[0m\u001b[0;34m.\u001b[0m\u001b[0marange\u001b[0m\u001b[0;34m(\u001b[0m\u001b[0mhp\u001b[0m\u001b[0;34m.\u001b[0m\u001b[0mnside2npix\u001b[0m\u001b[0;34m(\u001b[0m\u001b[0mnside\u001b[0m\u001b[0;34m)\u001b[0m\u001b[0;34m)\u001b[0m\u001b[0;34m,\u001b[0m \u001b[0mlonlat\u001b[0m\u001b[0;34m=\u001b[0m\u001b[0;32mTrue\u001b[0m\u001b[0;34m)\u001b[0m\u001b[0;34m\u001b[0m\u001b[0;34m\u001b[0m\u001b[0m\n\u001b[0m\u001b[1;32m    243\u001b[0m     \u001b[0;31m# ra = ra - 360 * (ra > 180)\u001b[0m\u001b[0;34m\u001b[0m\u001b[0;34m\u001b[0m\u001b[0;34m\u001b[0m\u001b[0m\n\u001b[1;32m    244\u001b[0m     \u001b[0;31m# vertices = [[120, 15], [120, 23], [-125+360, -3], [-130+360, -10]]\u001b[0m\u001b[0;34m\u001b[0m\u001b[0;34m\u001b[0m\u001b[0;34m\u001b[0m\u001b[0m\n",
      "\u001b[0;32m/Users/nora/miniconda3/envs/py3/lib/python3.7/site-packages/healpy/pixelfunc.py\u001b[0m in \u001b[0;36mpix2ang\u001b[0;34m(nside, ipix, nest, lonlat)\u001b[0m\n\u001b[1;32m    526\u001b[0m         \u001b[0mtheta\u001b[0m\u001b[0;34m,\u001b[0m \u001b[0mphi\u001b[0m \u001b[0;34m=\u001b[0m \u001b[0mpixlib\u001b[0m\u001b[0;34m.\u001b[0m\u001b[0m_pix2ang_nest\u001b[0m\u001b[0;34m(\u001b[0m\u001b[0mnside\u001b[0m\u001b[0;34m,\u001b[0m \u001b[0mipix\u001b[0m\u001b[0;34m)\u001b[0m\u001b[0;34m\u001b[0m\u001b[0;34m\u001b[0m\u001b[0m\n\u001b[1;32m    527\u001b[0m     \u001b[0;32melse\u001b[0m\u001b[0;34m:\u001b[0m\u001b[0;34m\u001b[0m\u001b[0;34m\u001b[0m\u001b[0m\n\u001b[0;32m--> 528\u001b[0;31m         \u001b[0mtheta\u001b[0m\u001b[0;34m,\u001b[0m \u001b[0mphi\u001b[0m \u001b[0;34m=\u001b[0m \u001b[0mpixlib\u001b[0m\u001b[0;34m.\u001b[0m\u001b[0m_pix2ang_ring\u001b[0m\u001b[0;34m(\u001b[0m\u001b[0mnside\u001b[0m\u001b[0;34m,\u001b[0m \u001b[0mipix\u001b[0m\u001b[0;34m)\u001b[0m\u001b[0;34m\u001b[0m\u001b[0;34m\u001b[0m\u001b[0m\n\u001b[0m\u001b[1;32m    529\u001b[0m \u001b[0;34m\u001b[0m\u001b[0m\n\u001b[1;32m    530\u001b[0m     \u001b[0;32mif\u001b[0m \u001b[0mlonlat\u001b[0m\u001b[0;34m:\u001b[0m\u001b[0;34m\u001b[0m\u001b[0;34m\u001b[0m\u001b[0m\n",
      "\u001b[0;31mKeyboardInterrupt\u001b[0m: "
     ]
    }
   ],
   "source": [
    "import plot_density_healpy\n",
    "reload(plot_density_healpy)\n",
    "import load_data\n",
    "reload(load_data)\n",
    "import streamlib\n",
    "reload(streamlib)\n",
    "import healpy as hp\n",
    "from matplotlib.path import Path\n",
    "\n",
    "proj1 = plot_density_healpy.get_ortho_proj(ends=[[8,13],[18,13]], half_sky=True)\n",
    "\n",
    "for mu in np.arange(15, 20.1):\n",
    "    print(mu)\n",
    "    \n",
    "    data_south = plot_density_healpy.prepare_data(mu, hpxcube_south_pal13, modulus, fracdet_south, sigma=0.2, fracmin=0.5, clip=100, sgr=True, acs=False, globs_dwarfs=True)\n",
    "    data_south_unm = plot_density_healpy.prepare_data(mu, hpxcube_south_pal13, modulus, fracdet_south, sigma=0.2, fracmin=0.5, clip=100, lmc=False, milky_way=False, sgr=False, globulars=False, dwarfs=False, galaxies=False, plane=False, center=False, globs_dwarfs=False, acs=False)\n",
    "    bkg1 = plot_density_healpy.fit_bkg(data_south, proj1, sigma=0.1)\n",
    "    bkg1.mask = data_south_unm.mask\n",
    "\n",
    "    ax1, im1 = plot_density_healpy.plot_proj(proj1, data_south_unm-bkg1, vmin=-2, vmax=2)\n",
    "    ax1.set_title(r'$m - M = %.1f$' %mu)\n",
    "    xmin, xmax, ymin, ymax = -0.6, 0.8, -0.5, 0.4\n",
    "    ax1.set_xlim(xmin, xmax)\n",
    "    ax1.set_ylim(ymin, ymax)\n",
    "\n",
    "    plt.savefig('../plots/Pal13/mov7/%.1f.png' %mu)\n",
    "    plt.close('all')"
   ]
  },
  {
   "cell_type": "code",
   "execution_count": null,
   "metadata": {},
   "outputs": [],
   "source": []
  }
 ],
 "metadata": {
  "kernelspec": {
   "display_name": "Python 3",
   "language": "python",
   "name": "python3"
  },
  "language_info": {
   "codemirror_mode": {
    "name": "ipython",
    "version": 3
   },
   "file_extension": ".py",
   "mimetype": "text/x-python",
   "name": "python",
   "nbconvert_exporter": "python",
   "pygments_lexer": "ipython3",
   "version": "3.7.5"
  }
 },
 "nbformat": 4,
 "nbformat_minor": 2
}
